{
 "cells": [
  {
   "cell_type": "markdown",
   "id": "920e1f2c",
   "metadata": {},
   "source": [
    "# use data.json as the dataset\n",
    "\n",
    "### 1. Restaurant with Maximum rating throughout the dataset"
   ]
  },
  {
   "cell_type": "code",
   "execution_count": null,
   "id": "e4c54b51",
   "metadata": {},
   "outputs": [],
   "source": []
  },
  {
   "cell_type": "markdown",
   "id": "d58b7245",
   "metadata": {},
   "source": [
    "### 2. Number of cities with least number of restaurants listed"
   ]
  },
  {
   "cell_type": "code",
   "execution_count": null,
   "id": "d086ab93",
   "metadata": {},
   "outputs": [],
   "source": []
  },
  {
   "cell_type": "markdown",
   "id": "a178ccae",
   "metadata": {},
   "source": [
    "### 3. Top 10 cities as per the number of restaurants listed?"
   ]
  },
  {
   "cell_type": "code",
   "execution_count": null,
   "id": "855f1670",
   "metadata": {},
   "outputs": [],
   "source": []
  },
  {
   "cell_type": "markdown",
   "id": "cdccaf4d",
   "metadata": {},
   "source": [
    "### 4. Most popular Cuisines served throughout the dataset? \n",
    "In terms of frequency"
   ]
  },
  {
   "cell_type": "code",
   "execution_count": null,
   "id": "6ff101b2",
   "metadata": {},
   "outputs": [],
   "source": []
  },
  {
   "cell_type": "markdown",
   "id": "ad4f667c",
   "metadata": {},
   "source": [
    "### 5. Which city is having the least expensive restaurant in terms of cost?"
   ]
  },
  {
   "cell_type": "code",
   "execution_count": null,
   "id": "3fc52ff2",
   "metadata": {},
   "outputs": [],
   "source": []
  },
  {
   "cell_type": "markdown",
   "id": "a21b34a2",
   "metadata": {},
   "source": [
    "### 6. Top 5 most popular restaurant chains in India?"
   ]
  },
  {
   "cell_type": "code",
   "execution_count": null,
   "id": "fe7aae39",
   "metadata": {},
   "outputs": [],
   "source": []
  },
  {
   "cell_type": "markdown",
   "id": "bf07da42",
   "metadata": {},
   "source": [
    "### 7. Which restaurant in Banglore has the most number of people visited?\n",
    "Take a number of reviews for reference"
   ]
  },
  {
   "cell_type": "code",
   "execution_count": null,
   "id": "7b67521f",
   "metadata": {},
   "outputs": [],
   "source": []
  }
 ],
 "metadata": {
  "kernelspec": {
   "display_name": "Python 3 (ipykernel)",
   "language": "python",
   "name": "python3"
  },
  "language_info": {
   "codemirror_mode": {
    "name": "ipython",
    "version": 3
   },
   "file_extension": ".py",
   "mimetype": "text/x-python",
   "name": "python",
   "nbconvert_exporter": "python",
   "pygments_lexer": "ipython3",
   "version": "3.9.7"
  }
 },
 "nbformat": 4,
 "nbformat_minor": 5
}
