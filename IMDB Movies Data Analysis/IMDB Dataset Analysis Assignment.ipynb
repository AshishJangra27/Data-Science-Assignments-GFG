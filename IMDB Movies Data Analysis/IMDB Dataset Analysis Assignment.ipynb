{
 "cells": [
  {
   "cell_type": "markdown",
   "id": "ec6392bf",
   "metadata": {},
   "source": [
    "### Loading the libraries and dataset"
   ]
  },
  {
   "cell_type": "code",
   "execution_count": null,
   "id": "2f00d5cf",
   "metadata": {},
   "outputs": [],
   "source": []
  },
  {
   "cell_type": "markdown",
   "id": "e724b9ee",
   "metadata": {},
   "source": [
    "### 1. How many different Genre of Movies are there in this dataset?"
   ]
  },
  {
   "cell_type": "code",
   "execution_count": null,
   "id": "dc33fcd6",
   "metadata": {},
   "outputs": [],
   "source": []
  },
  {
   "cell_type": "markdown",
   "id": "8b18fe55",
   "metadata": {},
   "source": [
    "### 2. Find the most voted Movie in the dataset"
   ]
  },
  {
   "cell_type": "code",
   "execution_count": null,
   "id": "82e48c2a",
   "metadata": {},
   "outputs": [],
   "source": []
  },
  {
   "cell_type": "markdown",
   "id": "b2b61009",
   "metadata": {},
   "source": [
    "### 3. Which Genre is having most number of Movies in the dataset?"
   ]
  },
  {
   "cell_type": "code",
   "execution_count": null,
   "id": "e7e02c9f",
   "metadata": {},
   "outputs": [],
   "source": []
  },
  {
   "cell_type": "markdown",
   "id": "cfe197c7",
   "metadata": {},
   "source": [
    "### 4. Find the Disctribution of number of movies in each genre with bar graph"
   ]
  },
  {
   "cell_type": "code",
   "execution_count": null,
   "id": "38425fae",
   "metadata": {},
   "outputs": [],
   "source": []
  },
  {
   "cell_type": "markdown",
   "id": "a35501ed",
   "metadata": {},
   "source": [
    "### 5. Plot top 10 Movies with maximum Gross-Income with Bar Graph"
   ]
  },
  {
   "cell_type": "code",
   "execution_count": null,
   "id": "bc9df251",
   "metadata": {},
   "outputs": [],
   "source": []
  },
  {
   "cell_type": "markdown",
   "id": "a2f06946",
   "metadata": {},
   "source": [
    "### 6. Whats the average duration of a movie in each genre in ascending order?"
   ]
  },
  {
   "cell_type": "code",
   "execution_count": null,
   "id": "f788db7b",
   "metadata": {},
   "outputs": [],
   "source": []
  },
  {
   "cell_type": "markdown",
   "id": "081f6a82",
   "metadata": {},
   "source": [
    "### 7. Which Genre is the best to make a movie to get maximum gross income?"
   ]
  },
  {
   "cell_type": "code",
   "execution_count": null,
   "id": "499ae97d",
   "metadata": {},
   "outputs": [],
   "source": []
  },
  {
   "cell_type": "markdown",
   "id": "9532b145",
   "metadata": {},
   "source": [
    "### 8. Which Genre is the worst to make money from a movie?"
   ]
  },
  {
   "cell_type": "code",
   "execution_count": null,
   "id": "bdcc5dc1",
   "metadata": {},
   "outputs": [],
   "source": []
  },
  {
   "cell_type": "markdown",
   "id": "e86dd7ab",
   "metadata": {},
   "source": [
    "### 9. Distribution of Average Gross Income of each genre?"
   ]
  },
  {
   "cell_type": "code",
   "execution_count": null,
   "id": "d1e66c21",
   "metadata": {},
   "outputs": [],
   "source": []
  },
  {
   "cell_type": "markdown",
   "id": "d540e1fa",
   "metadata": {},
   "source": [
    "### 10. Which two pairs of Genre is having maximum number of movies?"
   ]
  },
  {
   "cell_type": "code",
   "execution_count": null,
   "id": "afe508dd",
   "metadata": {},
   "outputs": [],
   "source": []
  }
 ],
 "metadata": {
  "kernelspec": {
   "display_name": "Python 3 (ipykernel)",
   "language": "python",
   "name": "python3"
  },
  "language_info": {
   "codemirror_mode": {
    "name": "ipython",
    "version": 3
   },
   "file_extension": ".py",
   "mimetype": "text/x-python",
   "name": "python",
   "nbconvert_exporter": "python",
   "pygments_lexer": "ipython3",
   "version": "3.9.7"
  }
 },
 "nbformat": 4,
 "nbformat_minor": 5
}
